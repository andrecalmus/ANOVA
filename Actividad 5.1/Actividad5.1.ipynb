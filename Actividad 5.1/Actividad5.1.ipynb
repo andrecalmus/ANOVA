{
 "cells": [
  {
   "cell_type": "code",
   "execution_count": 75,
   "id": "530bd2d1",
   "metadata": {},
   "outputs": [],
   "source": [
    "#Cargamos librerías\n",
    "import pandas as pd\n",
    "import numpy as np\n",
    "import matplotlib.pyplot as plt\n",
    "import seaborn as sns\n",
    "import statsmodels.api as sm\n",
    "from statsmodels.formula.api import ols\n",
    "from scipy import stats"
   ]
  },
  {
   "cell_type": "code",
   "execution_count": 76,
   "id": "07521d5d",
   "metadata": {},
   "outputs": [
    {
     "data": {
      "text/html": [
       "<div>\n",
       "<style scoped>\n",
       "    .dataframe tbody tr th:only-of-type {\n",
       "        vertical-align: middle;\n",
       "    }\n",
       "\n",
       "    .dataframe tbody tr th {\n",
       "        vertical-align: top;\n",
       "    }\n",
       "\n",
       "    .dataframe thead th {\n",
       "        text-align: right;\n",
       "    }\n",
       "</style>\n",
       "<table border=\"1\" class=\"dataframe\">\n",
       "  <thead>\n",
       "    <tr style=\"text-align: right;\">\n",
       "      <th></th>\n",
       "      <th>administrador</th>\n",
       "      <th>usuario</th>\n",
       "      <th>presionó_botón_correcto</th>\n",
       "      <th>tiempo_de_interacción</th>\n",
       "      <th>mini_juego</th>\n",
       "      <th>número_de_interacción_por_lección</th>\n",
       "      <th>color_presionado</th>\n",
       "      <th>dificultad</th>\n",
       "      <th>fecha</th>\n",
       "      <th>juego</th>\n",
       "      <th>auto_push</th>\n",
       "      <th>tiempo_de_lección</th>\n",
       "      <th>tiempo_de_sesión</th>\n",
       "    </tr>\n",
       "  </thead>\n",
       "  <tbody>\n",
       "    <tr>\n",
       "      <th>0</th>\n",
       "      <td>nicolas</td>\n",
       "      <td>nicolas</td>\n",
       "      <td>Si</td>\n",
       "      <td>5.399169</td>\n",
       "      <td>Despegue</td>\n",
       "      <td>1.0</td>\n",
       "      <td>blue</td>\n",
       "      <td>Episodio 1</td>\n",
       "      <td>25/01/2024 09:26</td>\n",
       "      <td>Astro</td>\n",
       "      <td>No</td>\n",
       "      <td>0.0</td>\n",
       "      <td>0.0</td>\n",
       "    </tr>\n",
       "    <tr>\n",
       "      <th>1</th>\n",
       "      <td>nicolas</td>\n",
       "      <td>nicolas</td>\n",
       "      <td>No</td>\n",
       "      <td>1.283400</td>\n",
       "      <td>Despegue</td>\n",
       "      <td>2.0</td>\n",
       "      <td>violet</td>\n",
       "      <td>Episodio 1</td>\n",
       "      <td>25/01/2024 09:26</td>\n",
       "      <td>Astro</td>\n",
       "      <td>No</td>\n",
       "      <td>0.0</td>\n",
       "      <td>0.0</td>\n",
       "    </tr>\n",
       "    <tr>\n",
       "      <th>2</th>\n",
       "      <td>nicolas</td>\n",
       "      <td>nicolas</td>\n",
       "      <td>Si</td>\n",
       "      <td>2.700226</td>\n",
       "      <td>Despegue</td>\n",
       "      <td>3.0</td>\n",
       "      <td>green</td>\n",
       "      <td>Episodio 1</td>\n",
       "      <td>25/01/2024 09:26</td>\n",
       "      <td>Astro</td>\n",
       "      <td>No</td>\n",
       "      <td>0.0</td>\n",
       "      <td>0.0</td>\n",
       "    </tr>\n",
       "    <tr>\n",
       "      <th>3</th>\n",
       "      <td>nicolas</td>\n",
       "      <td>nicolas</td>\n",
       "      <td>No</td>\n",
       "      <td>3.050262</td>\n",
       "      <td>Despegue</td>\n",
       "      <td>4.0</td>\n",
       "      <td>green</td>\n",
       "      <td>Episodio 1</td>\n",
       "      <td>25/01/2024 09:26</td>\n",
       "      <td>Astro</td>\n",
       "      <td>No</td>\n",
       "      <td>0.0</td>\n",
       "      <td>0.0</td>\n",
       "    </tr>\n",
       "    <tr>\n",
       "      <th>4</th>\n",
       "      <td>nicolas</td>\n",
       "      <td>nicolas</td>\n",
       "      <td>No</td>\n",
       "      <td>4.750256</td>\n",
       "      <td>Despegue</td>\n",
       "      <td>5.0</td>\n",
       "      <td>green</td>\n",
       "      <td>Episodio 1</td>\n",
       "      <td>25/01/2024 09:26</td>\n",
       "      <td>Astro</td>\n",
       "      <td>No</td>\n",
       "      <td>0.0</td>\n",
       "      <td>0.0</td>\n",
       "    </tr>\n",
       "    <tr>\n",
       "      <th>5</th>\n",
       "      <td>nicolas</td>\n",
       "      <td>nicolas</td>\n",
       "      <td>No</td>\n",
       "      <td>7.400463</td>\n",
       "      <td>Despegue</td>\n",
       "      <td>6.0</td>\n",
       "      <td>green</td>\n",
       "      <td>Episodio 1</td>\n",
       "      <td>25/01/2024 09:27</td>\n",
       "      <td>Astro</td>\n",
       "      <td>No</td>\n",
       "      <td>0.0</td>\n",
       "      <td>0.0</td>\n",
       "    </tr>\n",
       "    <tr>\n",
       "      <th>6</th>\n",
       "      <td>nicolas</td>\n",
       "      <td>nicolas</td>\n",
       "      <td>No</td>\n",
       "      <td>13.167350</td>\n",
       "      <td>Despegue</td>\n",
       "      <td>7.0</td>\n",
       "      <td>green</td>\n",
       "      <td>Episodio 1</td>\n",
       "      <td>25/01/2024 09:27</td>\n",
       "      <td>Astro</td>\n",
       "      <td>No</td>\n",
       "      <td>0.0</td>\n",
       "      <td>0.0</td>\n",
       "    </tr>\n",
       "    <tr>\n",
       "      <th>7</th>\n",
       "      <td>nicolas</td>\n",
       "      <td>nicolas</td>\n",
       "      <td>Si</td>\n",
       "      <td>22.467780</td>\n",
       "      <td>Despegue</td>\n",
       "      <td>8.0</td>\n",
       "      <td>yellow</td>\n",
       "      <td>Episodio 1</td>\n",
       "      <td>25/01/2024 09:27</td>\n",
       "      <td>Astro</td>\n",
       "      <td>No</td>\n",
       "      <td>0.0</td>\n",
       "      <td>0.0</td>\n",
       "    </tr>\n",
       "    <tr>\n",
       "      <th>8</th>\n",
       "      <td>nicolas</td>\n",
       "      <td>nicolas</td>\n",
       "      <td>No</td>\n",
       "      <td>14.517180</td>\n",
       "      <td>Despegue</td>\n",
       "      <td>9.0</td>\n",
       "      <td>green</td>\n",
       "      <td>Episodio 1</td>\n",
       "      <td>25/01/2024 09:27</td>\n",
       "      <td>Astro</td>\n",
       "      <td>No</td>\n",
       "      <td>0.0</td>\n",
       "      <td>0.0</td>\n",
       "    </tr>\n",
       "    <tr>\n",
       "      <th>9</th>\n",
       "      <td>nicolas</td>\n",
       "      <td>nicolas</td>\n",
       "      <td>No</td>\n",
       "      <td>15.617350</td>\n",
       "      <td>Despegue</td>\n",
       "      <td>10.0</td>\n",
       "      <td>blue</td>\n",
       "      <td>Episodio 1</td>\n",
       "      <td>25/01/2024 09:27</td>\n",
       "      <td>Astro</td>\n",
       "      <td>No</td>\n",
       "      <td>0.0</td>\n",
       "      <td>0.0</td>\n",
       "    </tr>\n",
       "  </tbody>\n",
       "</table>\n",
       "</div>"
      ],
      "text/plain": [
       "  administrador  usuario presionó_botón_correcto  tiempo_de_interacción  \\\n",
       "0       nicolas  nicolas                      Si               5.399169   \n",
       "1       nicolas  nicolas                      No               1.283400   \n",
       "2       nicolas  nicolas                      Si               2.700226   \n",
       "3       nicolas  nicolas                      No               3.050262   \n",
       "4       nicolas  nicolas                      No               4.750256   \n",
       "5       nicolas  nicolas                      No               7.400463   \n",
       "6       nicolas  nicolas                      No              13.167350   \n",
       "7       nicolas  nicolas                      Si              22.467780   \n",
       "8       nicolas  nicolas                      No              14.517180   \n",
       "9       nicolas  nicolas                      No              15.617350   \n",
       "\n",
       "  mini_juego  número_de_interacción_por_lección color_presionado  dificultad  \\\n",
       "0   Despegue                                1.0             blue  Episodio 1   \n",
       "1   Despegue                                2.0           violet  Episodio 1   \n",
       "2   Despegue                                3.0            green  Episodio 1   \n",
       "3   Despegue                                4.0            green  Episodio 1   \n",
       "4   Despegue                                5.0            green  Episodio 1   \n",
       "5   Despegue                                6.0            green  Episodio 1   \n",
       "6   Despegue                                7.0            green  Episodio 1   \n",
       "7   Despegue                                8.0           yellow  Episodio 1   \n",
       "8   Despegue                                9.0            green  Episodio 1   \n",
       "9   Despegue                               10.0             blue  Episodio 1   \n",
       "\n",
       "              fecha  juego auto_push  tiempo_de_lección  tiempo_de_sesión  \n",
       "0  25/01/2024 09:26  Astro        No                0.0               0.0  \n",
       "1  25/01/2024 09:26  Astro        No                0.0               0.0  \n",
       "2  25/01/2024 09:26  Astro        No                0.0               0.0  \n",
       "3  25/01/2024 09:26  Astro        No                0.0               0.0  \n",
       "4  25/01/2024 09:26  Astro        No                0.0               0.0  \n",
       "5  25/01/2024 09:27  Astro        No                0.0               0.0  \n",
       "6  25/01/2024 09:27  Astro        No                0.0               0.0  \n",
       "7  25/01/2024 09:27  Astro        No                0.0               0.0  \n",
       "8  25/01/2024 09:27  Astro        No                0.0               0.0  \n",
       "9  25/01/2024 09:27  Astro        No                0.0               0.0  "
      ]
     },
     "execution_count": 76,
     "metadata": {},
     "output_type": "execute_result"
    }
   ],
   "source": [
    "#Cargamos el archivo csv\n",
    "df = pd.read_csv('DataAnalyticsCat.csv')\n",
    "df = df.drop(columns=['Unnamed: 0'])\n",
    "df = df.rename(columns={'presionó botón correcto': 'presionó_botón_correcto'})\n",
    "df = df.rename(columns={'tiempo de interacción': 'tiempo_de_interacción'})\n",
    "df = df.rename(columns={'mini juego': 'mini_juego'})\n",
    "df = df.rename(columns={'número de interacción por lección': 'número_de_interacción_por_lección'})\n",
    "df = df.rename(columns={'color presionado': 'color_presionado'})\n",
    "df = df.rename(columns={'auto push': 'auto_push'})\n",
    "df = df.rename(columns={'tiempo de lección': 'tiempo_de_lección'})\n",
    "df = df.rename(columns={'tiempo de sesión': 'tiempo_de_sesión'})\n",
    "df.head(10)"
   ]
  },
  {
   "cell_type": "code",
   "execution_count": 77,
   "id": "5e7f6a4e",
   "metadata": {},
   "outputs": [
    {
     "data": {
      "text/plain": [
       "administrador                        0\n",
       "usuario                              0\n",
       "presionó_botón_correcto              0\n",
       "tiempo_de_interacción                0\n",
       "mini_juego                           0\n",
       "número_de_interacción_por_lección    0\n",
       "color_presionado                     0\n",
       "dificultad                           0\n",
       "fecha                                0\n",
       "juego                                0\n",
       "auto_push                            0\n",
       "tiempo_de_lección                    0\n",
       "tiempo_de_sesión                     0\n",
       "dtype: int64"
      ]
     },
     "execution_count": 77,
     "metadata": {},
     "output_type": "execute_result"
    }
   ],
   "source": [
    "#Identificar valores nulos por columna\n",
    "valores_nulos = df.isnull().sum()\n",
    "valores_nulos"
   ]
  },
  {
   "cell_type": "markdown",
   "id": "45bea250",
   "metadata": {},
   "source": [
    "### Realizar 1 análisis de varianza (ANOVA y MANOVA) para cada una de las variables numéricas del dataframe del socioformador Wuupi, aplicando la herramienta de “ANOVA”"
   ]
  },
  {
   "cell_type": "markdown",
   "id": "b7dafcf8",
   "metadata": {},
   "source": [
    "### Tiempo de interacción"
   ]
  },
  {
   "cell_type": "code",
   "execution_count": 78,
   "id": "d60fe806",
   "metadata": {},
   "outputs": [
    {
     "data": {
      "text/plain": [
       "<Axes: title={'center': 'tiempo_de_interacción'}, xlabel='presionó_botón_correcto'>"
      ]
     },
     "execution_count": 78,
     "metadata": {},
     "output_type": "execute_result"
    },
    {
     "data": {
      "image/png": "[encoded data removed]",
      "text/plain": [
       "<Figure size 640x480 with 1 Axes>"
      ]
     },
     "metadata": {},
     "output_type": "display_data"
    }
   ],
   "source": [
    "#Analizamos los diagramas de caja de la variable objetivo 'tiempo de interacción' por cada categoría de la variable independiente 'presionó botón correcto'\n",
    "df.boxplot('tiempo_de_interacción',by='presionó_botón_correcto')"
   ]
  },
  {
   "cell_type": "code",
   "execution_count": 79,
   "id": "8948cd5a",
   "metadata": {},
   "outputs": [
    {
     "data": {
      "text/plain": [
       "array(['Si', 'No'], dtype=object)"
      ]
     },
     "execution_count": 79,
     "metadata": {},
     "output_type": "execute_result"
    }
   ],
   "source": [
    "#Obtengo las categorías de la variable (presionó botón correcto)\n",
    "grupos = pd.unique(df['presionó_botón_correcto'].values)\n",
    "grupos"
   ]
  },
  {
   "cell_type": "markdown",
   "id": "ca288206",
   "metadata": {},
   "source": [
    "#### SCIPY ONEWAY (ANOVA)"
   ]
  },
  {
   "cell_type": "code",
   "execution_count": 80,
   "id": "81323712",
   "metadata": {},
   "outputs": [],
   "source": [
    "#Defino grupos donde me entrega la columna tiempo de interacción separada por grupos de las categorías de la columna presionó botón correcto: 'Si' y 'No'\n",
    "Tiempo_Interaccion_1 = df.tiempo_de_interacción[df.presionó_botón_correcto=='Si']\n",
    "Tiempo_Interaccion_2 = df.tiempo_de_interacción[df.presionó_botón_correcto=='No']"
   ]
  },
  {
   "cell_type": "code",
   "execution_count": 81,
   "id": "63833854",
   "metadata": {},
   "outputs": [
    {
     "data": {
      "text/plain": [
       "F_onewayResult(statistic=np.float64(90.8934803897955), pvalue=np.float64(2.1652341324617538e-21))"
      ]
     },
     "execution_count": 81,
     "metadata": {},
     "output_type": "execute_result"
    }
   ],
   "source": [
    "#p-value < 0.05, se rechaza la hipótesis de que todas las medias son iguales\n",
    "#p-value < 0.05, implica que la variable categórica influye en la variable cuantitativa\n",
    "anova = stats.f_oneway(Tiempo_Interaccion_1,Tiempo_Interaccion_2)\n",
    "anova"
   ]
  },
  {
   "cell_type": "markdown",
   "id": "197e8fd3",
   "metadata": {},
   "source": [
    "#### STATESMODEL (ANOVA)"
   ]
  },
  {
   "cell_type": "code",
   "execution_count": 82,
   "id": "b0276831",
   "metadata": {},
   "outputs": [
    {
     "name": "stdout",
     "output_type": "stream",
     "text": [
      "                             df        sum_sq       mean_sq         F  \\\n",
      "presionó_botón_correcto     1.0  1.942172e+04  19421.722116  90.89348   \n",
      "Residual                 5863.0  1.252780e+06    213.675635       NaN   \n",
      "\n",
      "                               PR(>F)  \n",
      "presionó_botón_correcto  2.165234e-21  \n",
      "Residual                          NaN  \n"
     ]
    }
   ],
   "source": [
    "#p-value <0.05, se rechaza la hipótesis de que todas las medias son iguales\n",
    "mod = ols('tiempo_de_interacción ~ presionó_botón_correcto', data=df).fit()\n",
    "anova_table = sm.stats.anova_lm(mod, typ=1)\n",
    "print(anova_table)"
   ]
  },
  {
   "cell_type": "code",
   "execution_count": 83,
   "id": "d5779197",
   "metadata": {},
   "outputs": [
    {
     "name": "stdout",
     "output_type": "stream",
     "text": [
      "                                       df        sum_sq       mean_sq  \\\n",
      "presionó_botón_correcto               1.0  1.942172e+04  19421.722116   \n",
      "auto_push                             1.0  9.825190e+04  98251.900258   \n",
      "presionó_botón_correcto:auto_push     1.0  2.129427e+01     21.294265   \n",
      "Residual                           5862.0  1.154528e+06    196.951270   \n",
      "\n",
      "                                            F         PR(>F)  \n",
      "presionó_botón_correcto             98.611814   4.667825e-23  \n",
      "auto_push                          498.864009  4.039803e-106  \n",
      "presionó_botón_correcto:auto_push    0.108119   7.423071e-01  \n",
      "Residual                                  NaN            NaN  \n"
     ]
    }
   ],
   "source": [
    "#p-value < 0.05, se rechaza la hipótesis de que todas las medias son iguales\n",
    "# Se puede generar un analisis MANOVA (Múltiples variables categóricas)\n",
    "mod= ols('tiempo_de_interacción ~ presionó_botón_correcto + auto_push + presionó_botón_correcto:auto_push', data=df).fit()\n",
    "anova_table=sm.stats.anova_lm(mod, typ=1)\n",
    "print (anova_table)"
   ]
  },
  {
   "cell_type": "markdown",
   "id": "5afaef5b",
   "metadata": {},
   "source": [
    "### Número de interacción por lección"
   ]
  },
  {
   "cell_type": "code",
   "execution_count": 84,
   "id": "c3d30812",
   "metadata": {},
   "outputs": [
    {
     "data": {
      "text/plain": [
       "<Axes: title={'center': 'número_de_interacción_por_lección'}, xlabel='presionó_botón_correcto'>"
      ]
     },
     "execution_count": 84,
     "metadata": {},
     "output_type": "execute_result"
    },
    {
     "data": {
      "image/png": "[encoded data removed]",
      "text/plain": [
       "<Figure size 640x480 with 1 Axes>"
      ]
     },
     "metadata": {},
     "output_type": "display_data"
    }
   ],
   "source": [
    "#Analizamos los diagramas de caja de la variable objetivo 'tiempo de interacción' por cada categoría de la variable independiente 'presionó botón correcto'\n",
    "df.boxplot('número_de_interacción_por_lección',by='presionó_botón_correcto')"
   ]
  },
  {
   "cell_type": "code",
   "execution_count": 85,
   "id": "40acc978",
   "metadata": {},
   "outputs": [
    {
     "data": {
      "text/plain": [
       "array(['Si', 'No'], dtype=object)"
      ]
     },
     "execution_count": 85,
     "metadata": {},
     "output_type": "execute_result"
    }
   ],
   "source": [
    "#Obtengo las categorías de la variable (presionó botón correcto)\n",
    "grupos = pd.unique(df['presionó_botón_correcto'].values)\n",
    "grupos"
   ]
  },
  {
   "cell_type": "markdown",
   "id": "0c35f660",
   "metadata": {},
   "source": [
    "#### SCIPY ONEWAY (ANOVA)"
   ]
  },
  {
   "cell_type": "code",
   "execution_count": 86,
   "id": "3481e4d4",
   "metadata": {},
   "outputs": [],
   "source": [
    "#Defino grupos donde me entrega la columna número de interacción por lección separada por grupos de las categorías de la columna presionó botón correcto: 'Si' y 'No'\n",
    "Interaccion_por_leccion_1 = df.número_de_interacción_por_lección[df.presionó_botón_correcto=='Si']\n",
    "Interaccion_por_leccion_2 = df.número_de_interacción_por_lección[df.presionó_botón_correcto=='No']"
   ]
  },
  {
   "cell_type": "code",
   "execution_count": 87,
   "id": "e13291eb",
   "metadata": {},
   "outputs": [
    {
     "data": {
      "text/plain": [
       "F_onewayResult(statistic=np.float64(356.32177839477373), pvalue=np.float64(3.337241843673127e-77))"
      ]
     },
     "execution_count": 87,
     "metadata": {},
     "output_type": "execute_result"
    }
   ],
   "source": [
    "#p-value < 0.05, se rechaza la hipótesis de que todas las medias son iguales\n",
    "#p-value < 0.05, implica que la variable categórica influye en la variable cuantitativa\n",
    "anova = stats.f_oneway(Interaccion_por_leccion_1,Interaccion_por_leccion_2)\n",
    "anova"
   ]
  },
  {
   "cell_type": "markdown",
   "id": "a86e22e9",
   "metadata": {},
   "source": [
    "#### STATESMODEL (ANOVA)"
   ]
  },
  {
   "cell_type": "code",
   "execution_count": 88,
   "id": "ff3ac62e",
   "metadata": {},
   "outputs": [
    {
     "name": "stdout",
     "output_type": "stream",
     "text": [
      "                             df        sum_sq        mean_sq           F  \\\n",
      "presionó_botón_correcto     1.0  3.061922e+05  306192.152686  356.321778   \n",
      "Residual                 5863.0  5.038156e+06     859.313607         NaN   \n",
      "\n",
      "                               PR(>F)  \n",
      "presionó_botón_correcto  3.337242e-77  \n",
      "Residual                          NaN  \n"
     ]
    }
   ],
   "source": [
    "#p-value <0.05, se rechaza la hipótesis de que todas las medias son iguales\n",
    "mod = ols('número_de_interacción_por_lección ~ presionó_botón_correcto', data=df).fit()\n",
    "anova_table = sm.stats.anova_lm(mod, typ=1)\n",
    "print(anova_table)"
   ]
  },
  {
   "cell_type": "code",
   "execution_count": 89,
   "id": "b8161a79",
   "metadata": {},
   "outputs": [
    {
     "name": "stdout",
     "output_type": "stream",
     "text": [
      "                                              df        sum_sq        mean_sq  \\\n",
      "presionó_botón_correcto                      1.0  3.061922e+05  306192.152686   \n",
      "color_presionado                             4.0  3.757463e+05   93936.582045   \n",
      "presionó_botón_correcto:color_presionado     4.0  3.919902e+05   97997.550230   \n",
      "Residual                                  5856.0  4.270424e+06     729.238987   \n",
      "\n",
      "                                                   F         PR(>F)  \n",
      "presionó_botón_correcto                   419.879022   3.541395e-90  \n",
      "color_presionado                          128.814536  1.382730e-105  \n",
      "presionó_botón_correcto:color_presionado  134.383312  5.241872e-110  \n",
      "Residual                                         NaN            NaN  \n"
     ]
    }
   ],
   "source": [
    "#p-value < 0.05, se rechaza la hipótesis de que todas las medias son iguales\n",
    "# Se puede generar un analisis MANOVA (Múltiples variables categóricas)\n",
    "mod= ols('número_de_interacción_por_lección ~ presionó_botón_correcto + color_presionado + presionó_botón_correcto:color_presionado', data=df).fit()\n",
    "anova_table=sm.stats.anova_lm(mod, typ=1)\n",
    "print (anova_table)"
   ]
  },
  {
   "cell_type": "markdown",
   "id": "65b604e7",
   "metadata": {},
   "source": [
    "### Tiempo de lección"
   ]
  },
  {
   "cell_type": "code",
   "execution_count": 90,
   "id": "e32aed03",
   "metadata": {},
   "outputs": [
    {
     "data": {
      "text/plain": [
       "<Axes: title={'center': 'tiempo_de_lección'}, xlabel='auto_push'>"
      ]
     },
     "execution_count": 90,
     "metadata": {},
     "output_type": "execute_result"
    },
    {
     "data": {
      "image/png": "[encoded data removed]",
      "text/plain": [
       "<Figure size 640x480 with 1 Axes>"
      ]
     },
     "metadata": {},
     "output_type": "display_data"
    }
   ],
   "source": [
    "#Analizamos los diagramas de caja de la variable objetivo 'tiempo de interacción' por cada categoría de la variable independiente 'presionó botón correcto'\n",
    "df.boxplot('tiempo_de_lección',by='auto_push')"
   ]
  },
  {
   "cell_type": "code",
   "execution_count": 91,
   "id": "029464a3",
   "metadata": {},
   "outputs": [
    {
     "data": {
      "text/plain": [
       "array(['No', 'Si'], dtype=object)"
      ]
     },
     "execution_count": 91,
     "metadata": {},
     "output_type": "execute_result"
    }
   ],
   "source": [
    "#Obtengo las categorías de la variable (presionó botón correcto)\n",
    "grupos = pd.unique(df['auto_push'].values)\n",
    "grupos"
   ]
  },
  {
   "cell_type": "markdown",
   "id": "4de38cd4",
   "metadata": {},
   "source": [
    "#### SCIPY ONEWAY (ANOVA)"
   ]
  },
  {
   "cell_type": "code",
   "execution_count": 92,
   "id": "86b0dc43",
   "metadata": {},
   "outputs": [],
   "source": [
    "#Defino grupos donde me entrega la columna tiempo de lección separada por grupos de las categorías de la columna auto_push: 'Si' y 'No'\n",
    "Tiempo_de_leccion_1 = df.tiempo_de_lección[df.auto_push=='Si']\n",
    "Tiempo_de_leccion_2 = df.tiempo_de_lección[df.auto_push=='No']"
   ]
  },
  {
   "cell_type": "code",
   "execution_count": 93,
   "id": "a0697450",
   "metadata": {},
   "outputs": [
    {
     "data": {
      "text/plain": [
       "F_onewayResult(statistic=np.float64(65.14238432923062), pvalue=np.float64(8.384552322833505e-16))"
      ]
     },
     "execution_count": 93,
     "metadata": {},
     "output_type": "execute_result"
    }
   ],
   "source": [
    "#p-value < 0.05, se rechaza la hipótesis de que todas las medias son iguales\n",
    "#p-value < 0.05, implica que la variable categórica influye en la variable cuantitativa\n",
    "anova = stats.f_oneway(Tiempo_de_leccion_1,Tiempo_de_leccion_2)\n",
    "anova"
   ]
  },
  {
   "cell_type": "markdown",
   "id": "1d75d6b3",
   "metadata": {},
   "source": [
    "#### STATESMODEL (ANOVA)"
   ]
  },
  {
   "cell_type": "code",
   "execution_count": 94,
   "id": "d8591379",
   "metadata": {},
   "outputs": [
    {
     "name": "stdout",
     "output_type": "stream",
     "text": [
      "               df        sum_sq       mean_sq          F        PR(>F)\n",
      "auto_push     1.0  5.320400e+04  53203.996685  65.142384  8.384552e-16\n",
      "Residual   5863.0  4.788511e+06    816.733947        NaN           NaN\n"
     ]
    }
   ],
   "source": [
    "#p-value <0.05, se rechaza la hipótesis de que todas las medias son iguales\n",
    "mod = ols('tiempo_de_lección ~ auto_push', data=df).fit()\n",
    "anova_table = sm.stats.anova_lm(mod, typ=1)\n",
    "print(anova_table)"
   ]
  },
  {
   "cell_type": "code",
   "execution_count": 95,
   "id": "34cd95bb",
   "metadata": {},
   "outputs": [
    {
     "name": "stdout",
     "output_type": "stream",
     "text": [
      "                          df        sum_sq       mean_sq          F  \\\n",
      "auto_push                1.0  5.320400e+04  53203.996685  66.166234   \n",
      "mini_juego              12.0  8.258264e+04   6881.886595   8.558540   \n",
      "auto_push:mini_juego    12.0  4.137945e+03    344.828711   0.428840   \n",
      "Residual              5848.0  4.702353e+06    804.095882        NaN   \n",
      "\n",
      "                            PR(>F)  \n",
      "auto_push             5.018500e-16  \n",
      "mini_juego            2.363258e-16  \n",
      "auto_push:mini_juego  9.528442e-01  \n",
      "Residual                       NaN  \n"
     ]
    }
   ],
   "source": [
    "#p-value < 0.05, se rechaza la hipótesis de que todas las medias son iguales\n",
    "# Se puede generar un analisis MANOVA (Múltiples variables categóricas)\n",
    "mod= ols('tiempo_de_lección ~ auto_push + mini_juego + auto_push:mini_juego', data=df).fit()\n",
    "anova_table=sm.stats.anova_lm(mod, typ=1)\n",
    "print (anova_table)"
   ]
  },
  {
   "cell_type": "markdown",
   "id": "90c7777e",
   "metadata": {},
   "source": [
    "### Tiempo de sesión"
   ]
  },
  {
   "cell_type": "code",
   "execution_count": 96,
   "id": "392bb65f",
   "metadata": {},
   "outputs": [
    {
     "data": {
      "text/plain": [
       "<Axes: title={'center': 'tiempo_de_sesión'}, xlabel='auto_push'>"
      ]
     },
     "execution_count": 96,
     "metadata": {},
     "output_type": "execute_result"
    },
    {
     "data": {
      "image/png": "[encoded data removed]",
      "text/plain": [
       "<Figure size 640x480 with 1 Axes>"
      ]
     },
     "metadata": {},
     "output_type": "display_data"
    }
   ],
   "source": [
    "#Analizamos los diagramas de caja de la variable objetivo 'tiempo de interacción' por cada categoría de la variable independiente 'presionó botón correcto'\n",
    "df.boxplot('tiempo_de_sesión',by='auto_push')"
   ]
  },
  {
   "cell_type": "code",
   "execution_count": 97,
   "id": "286b9e7d",
   "metadata": {},
   "outputs": [
    {
     "data": {
      "text/plain": [
       "array(['No', 'Si'], dtype=object)"
      ]
     },
     "execution_count": 97,
     "metadata": {},
     "output_type": "execute_result"
    }
   ],
   "source": [
    "#Obtengo las categorías de la variable (presionó botón correcto)\n",
    "grupos = pd.unique(df['auto_push'].values)\n",
    "grupos"
   ]
  },
  {
   "cell_type": "markdown",
   "id": "2e72783e",
   "metadata": {},
   "source": [
    "#### SCIPY ONEWAY (ANOVA)"
   ]
  },
  {
   "cell_type": "code",
   "execution_count": 98,
   "id": "fce8b724",
   "metadata": {},
   "outputs": [],
   "source": [
    "#Defino grupos donde me entrega la columna tiempo de lección separada por grupos de las categorías de la columna auto_push: 'Si' y 'No'\n",
    "Tiempo_de_sesion_1 = df.tiempo_de_sesión[df.auto_push=='Si']\n",
    "Tiempo_de_sesion_2 = df.tiempo_de_sesión[df.auto_push=='No']"
   ]
  },
  {
   "cell_type": "code",
   "execution_count": 99,
   "id": "97baf8dd",
   "metadata": {},
   "outputs": [
    {
     "data": {
      "text/plain": [
       "F_onewayResult(statistic=np.float64(65.14238432923062), pvalue=np.float64(8.384552322833505e-16))"
      ]
     },
     "execution_count": 99,
     "metadata": {},
     "output_type": "execute_result"
    }
   ],
   "source": [
    "#p-value < 0.05, se rechaza la hipótesis de que todas las medias son iguales\n",
    "#p-value < 0.05, implica que la variable categórica influye en la variable cuantitativa\n",
    "anova = stats.f_oneway(Tiempo_de_leccion_1,Tiempo_de_leccion_2)\n",
    "anova"
   ]
  },
  {
   "cell_type": "markdown",
   "id": "3eda0cf2",
   "metadata": {},
   "source": [
    "#### STATESMODEL (ANOVA)"
   ]
  },
  {
   "cell_type": "code",
   "execution_count": 100,
   "id": "2ee8766f",
   "metadata": {},
   "outputs": [
    {
     "name": "stdout",
     "output_type": "stream",
     "text": [
      "               df        sum_sq       mean_sq         F    PR(>F)\n",
      "auto_push     1.0  2.808754e+04  28087.537348  2.007794  0.156546\n",
      "Residual   5863.0  8.201898e+07  13989.250971       NaN       NaN\n"
     ]
    }
   ],
   "source": [
    "#p-value <0.05, se rechaza la hipótesis de que todas las medias son iguales\n",
    "mod = ols('tiempo_de_sesión ~ auto_push', data=df).fit()\n",
    "anova_table = sm.stats.anova_lm(mod, typ=1)\n",
    "print(anova_table)"
   ]
  },
  {
   "cell_type": "code",
   "execution_count": 101,
   "id": "c66b4612",
   "metadata": {},
   "outputs": [
    {
     "name": "stdout",
     "output_type": "stream",
     "text": [
      "                                df        sum_sq        mean_sq          F  \\\n",
      "auto_push                      1.0  2.808754e+04   28087.537348   2.025825   \n",
      "color_presionado               4.0  7.976200e+05  199404.996802  14.382168   \n",
      "auto_push:color_presionado     4.0  2.963533e+04    7408.832219   0.534365   \n",
      "Residual                    5856.0  8.119191e+07   13864.738113        NaN   \n",
      "\n",
      "                                  PR(>F)  \n",
      "auto_push                   1.546982e-01  \n",
      "color_presionado            1.092354e-11  \n",
      "auto_push:color_presionado  7.104983e-01  \n",
      "Residual                             NaN  \n"
     ]
    }
   ],
   "source": [
    "#p-value < 0.05, se rechaza la hipótesis de que todas las medias son iguales\n",
    "# Se puede generar un analisis MANOVA (Múltiples variables categóricas)\n",
    "mod= ols('tiempo_de_sesión ~ auto_push + color_presionado + auto_push:color_presionado', data=df).fit()\n",
    "anova_table=sm.stats.anova_lm(mod, typ=1)\n",
    "print (anova_table)"
   ]
  }
 ],
 "metadata": {
  "kernelspec": {
   "display_name": "Python 3",
   "language": "python",
   "name": "python3"
  },
  "language_info": {
   "codemirror_mode": {
    "name": "ipython",
    "version": 3
   },
   "file_extension": ".py",
   "mimetype": "text/x-python",
   "name": "python",
   "nbconvert_exporter": "python",
   "pygments_lexer": "ipython3",
   "version": "3.13.2"
  }
 },
 "nbformat": 4,
 "nbformat_minor": 5
}
